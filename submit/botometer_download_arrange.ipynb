{
 "cells": [
  {
   "cell_type": "markdown",
   "metadata": {},
   "source": [
    "# Botometer Downloader\n",
    "\n",
    "**CS109a**: Fall 2018\n",
    "\n",
    "**Authors**: Gordon Hew, Wenqin Hu, Blair Leduc\n",
    "\n",
    "**TF**: Ken Arnold"
   ]
  },
  {
   "cell_type": "markdown",
   "metadata": {},
   "source": [
    "## Botometer checks the Twitter accounts and gives it a score"
   ]
  },
  {
   "cell_type": "code",
   "execution_count": 1,
   "metadata": {
    "ExecuteTime": {
     "end_time": "2018-11-10T18:45:14.479848Z",
     "start_time": "2018-11-10T18:45:14.472445Z"
    }
   },
   "outputs": [],
   "source": [
    "%matplotlib inline\n",
    "import numpy as np\n",
    "import pandas as pd\n",
    "import matplotlib\n",
    "import matplotlib.pyplot as plt\n",
    "import seaborn as sns\n",
    "sns.set()\n",
    "\n",
    "# http://www.tweepy.org/\n",
    "import tweepy\n",
    "import sys\n",
    "import jsonpickle\n",
    "import json\n",
    "import os\n",
    "import zipfile\n",
    "import time\n",
    "from datetime import date\n",
    "from sklearn.decomposition import PCA\n",
    "import math\n",
    "import botometer"
   ]
  },
  {
   "cell_type": "code",
   "execution_count": 3,
   "metadata": {},
   "outputs": [],
   "source": [
    "# access botometer #\n",
    "\n",
    "mashape_key = \"HozoY73W3umshiUthQGQaS73C88Np1rXS7tjsnFZ2NrU2lzVmd\"\n",
    "twitter_app_auth = {\n",
    "'consumer_key': 'fNSZp54j8HgQPqVDZ0UcW1lSl',\n",
    "'consumer_secret': 'yQ5EvshFjADCV0EWJ02WCMqjn9PnaEuqMKVAyl9H3yuvNyPaUv',\n",
    "'access_token': '1058713520701882369-3bP6OTKN6ebVYwiLe5Yh43DrZQpPRj',\n",
    "'access_token_secret': 'RoONmFjQ7kVcUdqQXoiyKye6TBJfwdNFUcZpF0miFNBIa',\n",
    "  }\n",
    "bom = botometer.Botometer(wait_on_ratelimit=True,\n",
    "                          mashape_key=mashape_key,\n",
    "                          **twitter_app_auth)"
   ]
  },
  {
   "cell_type": "code",
   "execution_count": 4,
   "metadata": {},
   "outputs": [],
   "source": [
    "def get_botmeter(IDs):\n",
    "    accounts = IDs\n",
    "\n",
    "    botometer_result=[]\n",
    "    botometer_screen_name=[]\n",
    "\n",
    "    for screen_name, result in bom.check_accounts_in(accounts):\n",
    "        botometer_screen_name.append(screen_name)\n",
    "        botometer_result.append(result)\n",
    "\n",
    "    \n",
    "    return (botometer_result, botometer_screen_name)\n",
    "    "
   ]
  },
  {
   "cell_type": "code",
   "execution_count": 6,
   "metadata": {},
   "outputs": [
    {
     "name": "stdout",
     "output_type": "stream",
     "text": [
      "1000\n"
     ]
    },
    {
     "data": {
      "text/html": [
       "<div>\n",
       "<style scoped>\n",
       "    .dataframe tbody tr th:only-of-type {\n",
       "        vertical-align: middle;\n",
       "    }\n",
       "\n",
       "    .dataframe tbody tr th {\n",
       "        vertical-align: top;\n",
       "    }\n",
       "\n",
       "    .dataframe thead th {\n",
       "        text-align: right;\n",
       "    }\n",
       "</style>\n",
       "<table border=\"1\" class=\"dataframe\">\n",
       "  <thead>\n",
       "    <tr style=\"text-align: right;\">\n",
       "      <th></th>\n",
       "      <th>0</th>\n",
       "    </tr>\n",
       "  </thead>\n",
       "  <tbody>\n",
       "    <tr>\n",
       "      <th>0</th>\n",
       "      <td>934576158305345536</td>\n",
       "    </tr>\n",
       "  </tbody>\n",
       "</table>\n",
       "</div>"
      ],
      "text/plain": [
       "                    0\n",
       "0  934576158305345536"
      ]
     },
     "execution_count": 6,
     "metadata": {},
     "output_type": "execute_result"
    }
   ],
   "source": [
    "account_df=pd.read_csv('data/random_user_ids.txt', header = None)\n",
    "print (len(account_df))\n",
    "account_df.head(1)"
   ]
  },
  {
   "cell_type": "code",
   "execution_count": 7,
   "metadata": {},
   "outputs": [
    {
     "data": {
      "text/plain": [
       "1000"
      ]
     },
     "execution_count": 7,
     "metadata": {},
     "output_type": "execute_result"
    }
   ],
   "source": [
    "accounts = list(account_df[0])\n",
    "len(accounts)"
   ]
  },
  {
   "cell_type": "code",
   "execution_count": 15,
   "metadata": {},
   "outputs": [
    {
     "name": "stdout",
     "output_type": "stream",
     "text": [
      "botometer_time:  4566.151033878326\n"
     ]
    }
   ],
   "source": [
    "t = time.time()\n",
    "\n",
    "botometer_result_1000,botometer_screen_name_1000 \\\n",
    "    = get_botmeter(accounts)\n",
    "\n",
    "runtime_botometer = time.time()-t \n",
    "print('botometer_time: ',runtime_botometer)"
   ]
  },
  {
   "cell_type": "code",
   "execution_count": 16,
   "metadata": {},
   "outputs": [],
   "source": [
    "with open('data/botometer_result_1000random.json', 'w') as outfile:\n",
    "    json.dump(botometer_result_1000, outfile)"
   ]
  },
  {
   "cell_type": "markdown",
   "metadata": {},
   "source": [
    "load botometer scores from file "
   ]
  },
  {
   "cell_type": "code",
   "execution_count": 2,
   "metadata": {},
   "outputs": [],
   "source": [
    "def arrange_botometer_score(data_botometer,is_bot):\n",
    "    account_score = []\n",
    "    for i in (range(len(data_botometer))):\n",
    "        for key,val in data_botometer[i].items():\n",
    "            temp = key \n",
    "        if temp != 'error':\n",
    "            parameters = []\n",
    "            parameters.append(is_bot)\n",
    "            for key,val in data_botometer[i]['user'].items():\n",
    "                parameters.append(val)\n",
    "            for key,val in data_botometer[i]['categories'].items():\n",
    "                parameters.append(val)\n",
    "            for key,val in data_botometer[i]['scores'].items():\n",
    "                parameters.append(val)\n",
    "            account_score.append(parameters)\n",
    "\n",
    "    account_score = pd.DataFrame(account_score)\n",
    "    account_score.columns = columns = ['is_bot','id','screen_name',\n",
    "                                       'content','friend','network',\n",
    "                                       'sentiment','temporal','user',\n",
    "                                       'score_english','score_universal'\n",
    "                                      ]\n",
    "    return account_score"
   ]
  },
  {
   "cell_type": "code",
   "execution_count": 3,
   "metadata": {},
   "outputs": [],
   "source": [
    "with open('data/botometer_result_1000random.json') as handle:\n",
    "    human_botometer = json.loads(handle.read())\n",
    "with open('data/botometer_result_936bot.json') as handle:\n",
    "    bot_botometer = json.loads(handle.read())"
   ]
  },
  {
   "cell_type": "code",
   "execution_count": 4,
   "metadata": {},
   "outputs": [],
   "source": [
    "human_score = arrange_botometer_score(human_botometer,is_bot='False')\n",
    "bot_score = arrange_botometer_score(bot_botometer,is_bot='Ture')"
   ]
  },
  {
   "cell_type": "code",
   "execution_count": 10,
   "metadata": {},
   "outputs": [
    {
     "data": {
      "text/plain": [
       "Text(0.5,0.98,'Botometer scores on 936 botwiki and 997 random twitter users')"
      ]
     },
     "execution_count": 10,
     "metadata": {},
     "output_type": "execute_result"
    },
    {
     "data": {
      "image/png": "[encoded data removed]",
      "text/plain": [
       "<Figure size 1440x720 with 8 Axes>"
      ]
     },
     "metadata": {
      "needs_background": "light"
     },
     "output_type": "display_data"
    }
   ],
   "source": [
    "fig, axs = plt.subplots(2, 4, figsize=(20, 10))\n",
    "col = 3\n",
    "for j in range(2):\n",
    "    for i in range(4):\n",
    "        axs[j,i].hist(human_score.iloc[:,col].tolist(), alpha=0.6, \n",
    "                      label='no-bot')\n",
    "        axs[j,i].hist(bot_score.iloc[:,col].tolist(), alpha=0.6, \n",
    "                      label='bot')\n",
    "        axs[j,i].set_ylabel('freqency') \n",
    "        axs[j,i].set_xlabel(human_score.columns[col])\n",
    "        axs[j,i].legend()\n",
    "        col=col+1\n",
    "\n",
    "fig.suptitle(\"Botometer scores on 936 botwiki \"\\\n",
    "             +\"and 997 random twitter users\", \n",
    "             fontsize=16)\n",
    "        "
   ]
  },
  {
   "cell_type": "code",
   "execution_count": 60,
   "metadata": {},
   "outputs": [
    {
     "data": {
      "text/html": [
       "<div>\n",
       "<style scoped>\n",
       "    .dataframe tbody tr th:only-of-type {\n",
       "        vertical-align: middle;\n",
       "    }\n",
       "\n",
       "    .dataframe tbody tr th {\n",
       "        vertical-align: top;\n",
       "    }\n",
       "\n",
       "    .dataframe thead th {\n",
       "        text-align: right;\n",
       "    }\n",
       "</style>\n",
       "<table border=\"1\" class=\"dataframe\">\n",
       "  <thead>\n",
       "    <tr style=\"text-align: right;\">\n",
       "      <th></th>\n",
       "      <th>id</th>\n",
       "      <th>followers_count</th>\n",
       "      <th>statuses_count</th>\n",
       "      <th>friends_count</th>\n",
       "      <th>favourites_count</th>\n",
       "      <th>listed_count</th>\n",
       "      <th>is_bot</th>\n",
       "      <th>botometer_score</th>\n",
       "    </tr>\n",
       "  </thead>\n",
       "  <tbody>\n",
       "    <tr>\n",
       "      <th>0</th>\n",
       "      <td>37861434</td>\n",
       "      <td>135481</td>\n",
       "      <td>9539</td>\n",
       "      <td>6</td>\n",
       "      <td>0</td>\n",
       "      <td>1591</td>\n",
       "      <td>True</td>\n",
       "      <td>0.341219</td>\n",
       "    </tr>\n",
       "  </tbody>\n",
       "</table>\n",
       "</div>"
      ],
      "text/plain": [
       "         id  followers_count  statuses_count  friends_count  favourites_count  \\\n",
       "0  37861434           135481            9539              6                 0   \n",
       "\n",
       "   listed_count  is_bot  botometer_score  \n",
       "0          1591    True         0.341219  "
      ]
     },
     "execution_count": 60,
     "metadata": {},
     "output_type": "execute_result"
    }
   ],
   "source": [
    "account_df2 = account_df.copy()\n",
    "account_df2 = account_df2.drop(columns=['screen_name', 'name', \n",
    "                                        'verified', 'location', \n",
    "                                        'description', 'lang',\n",
    "                                        'url', 'geo_enabled', \n",
    "                                        'created_at'])\n",
    "account_df2.head(1)"
   ]
  },
  {
   "cell_type": "code",
   "execution_count": 130,
   "metadata": {},
   "outputs": [
    {
     "data": {
      "text/html": [
       "<div>\n",
       "<style scoped>\n",
       "    .dataframe tbody tr th:only-of-type {\n",
       "        vertical-align: middle;\n",
       "    }\n",
       "\n",
       "    .dataframe tbody tr th {\n",
       "        vertical-align: top;\n",
       "    }\n",
       "\n",
       "    .dataframe thead th {\n",
       "        text-align: right;\n",
       "    }\n",
       "</style>\n",
       "<table border=\"1\" class=\"dataframe\">\n",
       "  <thead>\n",
       "    <tr style=\"text-align: right;\">\n",
       "      <th></th>\n",
       "      <th>followers_count</th>\n",
       "      <th>statuses_count</th>\n",
       "      <th>friends_count</th>\n",
       "      <th>favourites_count</th>\n",
       "      <th>listed_count</th>\n",
       "    </tr>\n",
       "  </thead>\n",
       "  <tbody>\n",
       "    <tr>\n",
       "      <th>count</th>\n",
       "      <td>100.000000</td>\n",
       "      <td>100.000000</td>\n",
       "      <td>100.000000</td>\n",
       "      <td>100.000000</td>\n",
       "      <td>100.000000</td>\n",
       "    </tr>\n",
       "    <tr>\n",
       "      <th>mean</th>\n",
       "      <td>0.422452</td>\n",
       "      <td>0.435771</td>\n",
       "      <td>0.177962</td>\n",
       "      <td>0.291188</td>\n",
       "      <td>0.366396</td>\n",
       "    </tr>\n",
       "    <tr>\n",
       "      <th>std</th>\n",
       "      <td>0.254621</td>\n",
       "      <td>0.232974</td>\n",
       "      <td>0.208065</td>\n",
       "      <td>0.292839</td>\n",
       "      <td>0.225001</td>\n",
       "    </tr>\n",
       "    <tr>\n",
       "      <th>min</th>\n",
       "      <td>0.000000</td>\n",
       "      <td>0.000000</td>\n",
       "      <td>0.000000</td>\n",
       "      <td>0.000000</td>\n",
       "      <td>0.000000</td>\n",
       "    </tr>\n",
       "    <tr>\n",
       "      <th>25%</th>\n",
       "      <td>0.286515</td>\n",
       "      <td>0.290618</td>\n",
       "      <td>0.000000</td>\n",
       "      <td>0.000000</td>\n",
       "      <td>0.192609</td>\n",
       "    </tr>\n",
       "    <tr>\n",
       "      <th>50%</th>\n",
       "      <td>0.410244</td>\n",
       "      <td>0.490280</td>\n",
       "      <td>0.103968</td>\n",
       "      <td>0.238762</td>\n",
       "      <td>0.359801</td>\n",
       "    </tr>\n",
       "    <tr>\n",
       "      <th>75%</th>\n",
       "      <td>0.593019</td>\n",
       "      <td>0.590976</td>\n",
       "      <td>0.317226</td>\n",
       "      <td>0.493743</td>\n",
       "      <td>0.498676</td>\n",
       "    </tr>\n",
       "    <tr>\n",
       "      <th>max</th>\n",
       "      <td>1.000000</td>\n",
       "      <td>1.000000</td>\n",
       "      <td>1.000000</td>\n",
       "      <td>1.000000</td>\n",
       "      <td>1.000000</td>\n",
       "    </tr>\n",
       "  </tbody>\n",
       "</table>\n",
       "</div>"
      ],
      "text/plain": [
       "       followers_count  statuses_count  friends_count  favourites_count  \\\n",
       "count       100.000000      100.000000     100.000000        100.000000   \n",
       "mean          0.422452        0.435771       0.177962          0.291188   \n",
       "std           0.254621        0.232974       0.208065          0.292839   \n",
       "min           0.000000        0.000000       0.000000          0.000000   \n",
       "25%           0.286515        0.290618       0.000000          0.000000   \n",
       "50%           0.410244        0.490280       0.103968          0.238762   \n",
       "75%           0.593019        0.590976       0.317226          0.493743   \n",
       "max           1.000000        1.000000       1.000000          1.000000   \n",
       "\n",
       "       listed_count  \n",
       "count    100.000000  \n",
       "mean       0.366396  \n",
       "std        0.225001  \n",
       "min        0.000000  \n",
       "25%        0.192609  \n",
       "50%        0.359801  \n",
       "75%        0.498676  \n",
       "max        1.000000  "
      ]
     },
     "execution_count": 130,
     "metadata": {},
     "output_type": "execute_result"
    }
   ],
   "source": [
    "y_train = account_df2['is_bot']\n",
    "x_train = (account_df2.drop(columns=['id', 'is_bot','botometer_score']))\n",
    "x_train = (x_train+1).apply(np.log, axis=0)\n",
    "\n",
    "x_train = (x_train - x_train.min())/(x_train.max() - x_train.min())\n",
    "x_train.describe()"
   ]
  },
  {
   "cell_type": "code",
   "execution_count": 129,
   "metadata": {},
   "outputs": [
    {
     "data": {
      "text/html": [
       "<div>\n",
       "<style scoped>\n",
       "    .dataframe tbody tr th:only-of-type {\n",
       "        vertical-align: middle;\n",
       "    }\n",
       "\n",
       "    .dataframe tbody tr th {\n",
       "        vertical-align: top;\n",
       "    }\n",
       "\n",
       "    .dataframe thead th {\n",
       "        text-align: right;\n",
       "    }\n",
       "</style>\n",
       "<table border=\"1\" class=\"dataframe\">\n",
       "  <thead>\n",
       "    <tr style=\"text-align: right;\">\n",
       "      <th></th>\n",
       "      <th>followers_count</th>\n",
       "      <th>statuses_count</th>\n",
       "      <th>friends_count</th>\n",
       "      <th>favourites_count</th>\n",
       "      <th>listed_count</th>\n",
       "    </tr>\n",
       "  </thead>\n",
       "  <tbody>\n",
       "    <tr>\n",
       "      <th>0</th>\n",
       "      <td>12.816594</td>\n",
       "      <td>10.163249</td>\n",
       "      <td>2.94591</td>\n",
       "      <td>1.0</td>\n",
       "      <td>8.372746</td>\n",
       "    </tr>\n",
       "  </tbody>\n",
       "</table>\n",
       "</div>"
      ],
      "text/plain": [
       "   followers_count  statuses_count  friends_count  favourites_count  \\\n",
       "0        12.816594       10.163249        2.94591               1.0   \n",
       "\n",
       "   listed_count  \n",
       "0      8.372746  "
      ]
     },
     "execution_count": 129,
     "metadata": {},
     "output_type": "execute_result"
    }
   ],
   "source": [
    "(x_train+1).head(1)"
   ]
  },
  {
   "cell_type": "code",
   "execution_count": 131,
   "metadata": {},
   "outputs": [
    {
     "data": {
      "image/png": "[encoded data removed]",
      "text/plain": [
       "<Figure size 1440x360 with 5 Axes>"
      ]
     },
     "metadata": {},
     "output_type": "display_data"
    }
   ],
   "source": [
    "fig, axs = plt.subplots(1, 5, figsize=(20, 5))\n",
    "\n",
    "for i in range(5):\n",
    "    axs[i].hist(x_train.iloc[0:49,i].tolist(), alpha=0.6, \n",
    "                label='no-bot')\n",
    "    axs[i].hist(x_train.iloc[50:99,i].tolist(), alpha=0.6, \n",
    "                label='bot')        \n",
    "    axs[i].set_ylabel('freqency') \n",
    "    axs[i].set_xlabel(x_train.columns[i])\n",
    "    axs[i].legend()\n"
   ]
  },
  {
   "cell_type": "code",
   "execution_count": 135,
   "metadata": {},
   "outputs": [
    {
     "data": {
      "text/plain": [
       "Text(0.5,1,'Scatter plot of top 2 components of different types of bot data')"
      ]
     },
     "execution_count": 135,
     "metadata": {},
     "output_type": "execute_result"
    },
    {
     "data": {
      "image/png": "[encoded data removed]",
      "text/plain": [
       "<Figure size 428.459x360 with 1 Axes>"
      ]
     },
     "metadata": {},
     "output_type": "display_data"
    }
   ],
   "source": [
    "pca = PCA(n_components = 2).fit(x_train)\n",
    "pca_x = pca.transform(x_train)\n",
    "\n",
    "pca_df = pd.DataFrame(pca_x, columns=['PCA1', 'PCA2'])\n",
    "pca_df['is bot'] = y_train.values\n",
    "\n",
    "sns.lmplot(x=\"PCA1\", y=\"PCA2\", hue='is bot', \n",
    "           data=pca_df, fit_reg=False)\n",
    "plt.title('Scatter plot of top 2 components of '\\\n",
    "          +'different types of bot data')"
   ]
  },
  {
   "cell_type": "markdown",
   "metadata": {},
   "source": [
    "##  save for laver ##"
   ]
  },
  {
   "cell_type": "code",
   "execution_count": null,
   "metadata": {},
   "outputs": [],
   "source": [
    "tweets_df = pd.read_json(json_file_name, lines=True)\n",
    "tweets_df.dtypes"
   ]
  },
  {
   "cell_type": "raw",
   "metadata": {},
   "source": [
    "followers = pd.DataFrame(ids)\n",
    "followers.to_csv('data/'+csv_file_name)"
   ]
  },
  {
   "cell_type": "markdown",
   "metadata": {},
   "source": [
    "bom.check_account(966489271694630912)"
   ]
  }
 ],
 "metadata": {
  "kernelspec": {
   "display_name": "Python 3",
   "language": "python",
   "name": "python3"
  },
  "language_info": {
   "codemirror_mode": {
    "name": "ipython",
    "version": 3
   },
   "file_extension": ".py",
   "mimetype": "text/x-python",
   "name": "python",
   "nbconvert_exporter": "python",
   "pygments_lexer": "ipython3",
   "version": "3.6.7"
  }
 },
 "nbformat": 4,
 "nbformat_minor": 2
}
